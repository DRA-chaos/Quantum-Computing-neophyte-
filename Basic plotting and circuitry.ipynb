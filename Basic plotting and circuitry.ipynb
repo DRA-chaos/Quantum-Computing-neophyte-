{
 "cells": [
  {
   "cell_type": "code",
   "execution_count": 1,
   "metadata": {},
   "outputs": [],
   "source": [
    "from qiskit import QuantumCircuit, assemble, Aer\n",
    "from qiskit.visualization import plot_histogram"
   ]
  },
  {
   "cell_type": "markdown",
   "metadata": {},
   "source": [
    "Our first simple quantum circuit"
   ]
  },
  {
   "cell_type": "raw",
   "metadata": {},
   "source": [
    "So to build our first circuit, we need to encode the input, perform some operation and then obtain an output/ measurement. All of these need to be done by obeying the postulates of quantum mechanics (operators, observables, evolution, collapse etc)"
   ]
  },
  {
   "cell_type": "code",
   "execution_count": 3,
   "metadata": {},
   "outputs": [],
   "source": [
    "#We start by creating a circuit with 6 qubits and 6 outputs\n",
    "no = 6  #no is the number of qubits\n",
    "no_q = no\n",
    "no_b = no\n",
    "qc_output = QuantumCircuit(no_q,no_b)"
   ]
  },
  {
   "cell_type": "code",
   "execution_count": 5,
   "metadata": {},
   "outputs": [],
   "source": [
    "# We use the operation Measure to extract the outputs of those 6 qubits that we considered.\n",
    "\n",
    "for j in range(no):\n",
    "    qc_output.measure(j,j)"
   ]
  },
  {
   "cell_type": "code",
   "execution_count": 6,
   "metadata": {},
   "outputs": [
    {
     "data": {
      "text/html": [
       "<pre style=\"word-wrap: normal;white-space: pre;background: #fff0;line-height: 1.1;font-family: &quot;Courier New&quot;,Courier,monospace\">     ┌─┐               \n",
       "q_0: ┤M├───────────────\n",
       "     └╥┘┌─┐            \n",
       "q_1: ─╫─┤M├────────────\n",
       "      ║ └╥┘┌─┐         \n",
       "q_2: ─╫──╫─┤M├─────────\n",
       "      ║  ║ └╥┘┌─┐      \n",
       "q_3: ─╫──╫──╫─┤M├──────\n",
       "      ║  ║  ║ └╥┘┌─┐   \n",
       "q_4: ─╫──╫──╫──╫─┤M├───\n",
       "      ║  ║  ║  ║ └╥┘┌─┐\n",
       "q_5: ─╫──╫──╫──╫──╫─┤M├\n",
       "      ║  ║  ║  ║  ║ └╥┘\n",
       "c: 6/═╩══╩══╩══╩══╩══╩═\n",
       "      0  1  2  3  4  5 </pre>"
      ],
      "text/plain": [
       "     ┌─┐               \n",
       "q_0: ┤M├───────────────\n",
       "     └╥┘┌─┐            \n",
       "q_1: ─╫─┤M├────────────\n",
       "      ║ └╥┘┌─┐         \n",
       "q_2: ─╫──╫─┤M├─────────\n",
       "      ║  ║ └╥┘┌─┐      \n",
       "q_3: ─╫──╫──╫─┤M├──────\n",
       "      ║  ║  ║ └╥┘┌─┐   \n",
       "q_4: ─╫──╫──╫──╫─┤M├───\n",
       "      ║  ║  ║  ║ └╥┘┌─┐\n",
       "q_5: ─╫──╫──╫──╫──╫─┤M├\n",
       "      ║  ║  ║  ║  ║ └╥┘\n",
       "c: 6/═╩══╩══╩══╩══╩══╩═\n",
       "      0  1  2  3  4  5 "
      ]
     },
     "execution_count": 6,
     "metadata": {},
     "output_type": "execute_result"
    }
   ],
   "source": [
    "#To visualize it, we invoke the draw command\n",
    "qc_output.draw()"
   ]
  },
  {
   "cell_type": "raw",
   "metadata": {},
   "source": [
    "If we run the circuit several times and plot the results in a histogram, we will observe that the result for each qubit is always a 0. This is because we haven't performed any operation or calculation yet, by default qubits are always initialized to give a 0. \n"
   ]
  },
  {
   "cell_type": "code",
   "execution_count": 7,
   "metadata": {},
   "outputs": [
    {
     "data": {
      "image/png": "[encoded data removed]",
      "text/plain": [
       "<Figure size 504x360 with 1 Axes>"
      ]
     },
     "execution_count": 7,
     "metadata": {},
     "output_type": "execute_result"
    }
   ],
   "source": [
    "sim = Aer.get_backend('qasm_simulator')  # qasm simulator is one of the many simulators\n",
    "qobj = assemble(qc_output)  # we are turning the circuit into an object so that the backend can run it\n",
    "result = sim.run(qobj).result()  # the exp is run and we obtain the result in the variable result\n",
    "# counts is a dictionary containing the number of times each result appeared\n",
    "\n",
    "counts = result.get_counts()\n",
    "# we now display it on a histogram\n",
    "\n",
    "plot_histogram(counts)"
   ]
  },
  {
   "cell_type": "code",
   "execution_count": 12,
   "metadata": {},
   "outputs": [
    {
     "data": {
      "text/html": [
       "<pre style=\"word-wrap: normal;white-space: pre;background: #fff0;line-height: 1.1;font-family: &quot;Courier New&quot;,Courier,monospace\">          \n",
       "q_0: ─────\n",
       "          \n",
       "q_1: ─────\n",
       "          \n",
       "q_2: ─────\n",
       "     ┌───┐\n",
       "q_3: ┤ X ├\n",
       "     └───┘\n",
       "q_4: ─────\n",
       "          \n",
       "q_5: ─────\n",
       "          </pre>"
      ],
      "text/plain": [
       "          \n",
       "q_0: ─────\n",
       "          \n",
       "q_1: ─────\n",
       "          \n",
       "q_2: ─────\n",
       "     ┌───┐\n",
       "q_3: ┤ X ├\n",
       "     └───┘\n",
       "q_4: ─────\n",
       "          \n",
       "q_5: ─────\n",
       "          "
      ]
     },
     "execution_count": 12,
     "metadata": {},
     "output_type": "execute_result"
    }
   ],
   "source": [
    "qc_encode = QuantumCircuit(no)\n",
    "qc_encode.x(3)\n",
    "qc_encode.draw()"
   ]
  },
  {
   "cell_type": "code",
   "execution_count": 13,
   "metadata": {},
   "outputs": [
    {
     "data": {
      "text/html": [
       "<pre style=\"word-wrap: normal;white-space: pre;background: #fff0;line-height: 1.1;font-family: &quot;Courier New&quot;,Courier,monospace\">          ┌─┐            \n",
       "q_0: ─────┤M├────────────\n",
       "          └╥┘┌─┐         \n",
       "q_1: ──────╫─┤M├─────────\n",
       "           ║ └╥┘┌─┐      \n",
       "q_2: ──────╫──╫─┤M├──────\n",
       "     ┌───┐ ║  ║ └╥┘   ┌─┐\n",
       "q_3: ┤ X ├─╫──╫──╫────┤M├\n",
       "     └┬─┬┘ ║  ║  ║    └╥┘\n",
       "q_4: ─┤M├──╫──╫──╫─────╫─\n",
       "      └╥┘  ║  ║  ║ ┌─┐ ║ \n",
       "q_5: ──╫───╫──╫──╫─┤M├─╫─\n",
       "       ║   ║  ║  ║ └╥┘ ║ \n",
       "c: 6/══╩═══╩══╩══╩══╩══╩═\n",
       "       4   0  1  2  5  3 </pre>"
      ],
      "text/plain": [
       "          ┌─┐            \n",
       "q_0: ─────┤M├────────────\n",
       "          └╥┘┌─┐         \n",
       "q_1: ──────╫─┤M├─────────\n",
       "           ║ └╥┘┌─┐      \n",
       "q_2: ──────╫──╫─┤M├──────\n",
       "     ┌───┐ ║  ║ └╥┘   ┌─┐\n",
       "q_3: ┤ X ├─╫──╫──╫────┤M├\n",
       "     └┬─┬┘ ║  ║  ║    └╥┘\n",
       "q_4: ─┤M├──╫──╫──╫─────╫─\n",
       "      └╥┘  ║  ║  ║ ┌─┐ ║ \n",
       "q_5: ──╫───╫──╫──╫─┤M├─╫─\n",
       "       ║   ║  ║  ║ └╥┘ ║ \n",
       "c: 6/══╩═══╩══╩══╩══╩══╩═\n",
       "       4   0  1  2  5  3 "
      ]
     },
     "execution_count": 13,
     "metadata": {},
     "output_type": "execute_result"
    }
   ],
   "source": [
    "qc = qc_encode + qc_output\n",
    "qc.draw()"
   ]
  },
  {
   "cell_type": "code",
   "execution_count": 14,
   "metadata": {},
   "outputs": [
    {
     "data": {
      "image/png": "[encoded data removed]",
      "text/plain": [
       "<Figure size 504x360 with 1 Axes>"
      ]
     },
     "execution_count": 14,
     "metadata": {},
     "output_type": "execute_result"
    }
   ],
   "source": [
    "qobj = assemble(qc)\n",
    "counts = sim.run(qobj).result().get_counts()\n",
    "plot_histogram(counts)"
   ]
  },
  {
   "cell_type": "code",
   "execution_count": 17,
   "metadata": {},
   "outputs": [
    {
     "data": {
      "text/html": [
       "<pre style=\"word-wrap: normal;white-space: pre;background: #fff0;line-height: 1.1;font-family: &quot;Courier New&quot;,Courier,monospace\">          \n",
       "q_0: ──■──\n",
       "     ┌─┴─┐\n",
       "q_1: ┤ X ├\n",
       "     └───┘\n",
       "q_2: ─────\n",
       "          \n",
       "q_3: ─────\n",
       "          \n",
       "q_4: ─────\n",
       "          </pre>"
      ],
      "text/plain": [
       "          \n",
       "q_0: ──■──\n",
       "     ┌─┴─┐\n",
       "q_1: ┤ X ├\n",
       "     └───┘\n",
       "q_2: ─────\n",
       "          \n",
       "q_3: ─────\n",
       "          \n",
       "q_4: ─────\n",
       "          "
      ]
     },
     "execution_count": 17,
     "metadata": {},
     "output_type": "execute_result"
    }
   ],
   "source": [
    "qc_cnot = QuantumCircuit(5)\n",
    "qc_cnot.cx(0,1)\n",
    "qc_cnot.draw()"
   ]
  },
  {
   "cell_type": "code",
   "execution_count": 20,
   "metadata": {},
   "outputs": [
    {
     "data": {
      "text/html": [
       "<pre style=\"word-wrap: normal;white-space: pre;background: #fff0;line-height: 1.1;font-family: &quot;Courier New&quot;,Courier,monospace\">     ┌───┐     ┌─┐   \n",
       "q_0: ┤ X ├──■──┤M├───\n",
       "     └───┘┌─┴─┐└╥┘┌─┐\n",
       "q_1: ─────┤ X ├─╫─┤M├\n",
       "          └───┘ ║ └╥┘\n",
       "c: 2/═══════════╩══╩═\n",
       "                0  1 </pre>"
      ],
      "text/plain": [
       "     ┌───┐     ┌─┐   \n",
       "q_0: ┤ X ├──■──┤M├───\n",
       "     └───┘┌─┴─┐└╥┘┌─┐\n",
       "q_1: ─────┤ X ├─╫─┤M├\n",
       "          └───┘ ║ └╥┘\n",
       "c: 2/═══════════╩══╩═\n",
       "                0  1 "
      ]
     },
     "execution_count": 20,
     "metadata": {},
     "output_type": "execute_result"
    }
   ],
   "source": [
    "qc = QuantumCircuit(2,2)\n",
    "qc.x(0)\n",
    "qc.cx(0,1)\n",
    "qc.measure(0,0)\n",
    "qc.measure(1,1)\n",
    "qc.draw()"
   ]
  },
  {
   "cell_type": "code",
   "execution_count": 21,
   "metadata": {},
   "outputs": [
    {
     "data": {
      "text/plain": [
       "{'qiskit-terra': '0.16.1',\n",
       " 'qiskit-aer': '0.7.1',\n",
       " 'qiskit-ignis': '0.5.1',\n",
       " 'qiskit-ibmq-provider': '0.11.1',\n",
       " 'qiskit-aqua': '0.8.1',\n",
       " 'qiskit': '0.23.1'}"
      ]
     },
     "execution_count": 21,
     "metadata": {},
     "output_type": "execute_result"
    }
   ],
   "source": [
    "import qiskit\n",
    "qiskit.__qiskit_version__"
   ]
  },
  {
   "cell_type": "code",
   "execution_count": 22,
   "metadata": {},
   "outputs": [],
   "source": [
    "from qiskit.visualization import plot_histogram, plot_bloch_vector\n",
    "from math import sqrt, pi"
   ]
  },
  {
   "cell_type": "code",
   "execution_count": 23,
   "metadata": {},
   "outputs": [
    {
     "ename": "ModuleNotFoundError",
     "evalue": "No module named 'qiskit_textbook'",
     "output_type": "error",
     "traceback": [
      "\u001b[1;31m---------------------------------------------------------------------------\u001b[0m",
      "\u001b[1;31mModuleNotFoundError\u001b[0m                       Traceback (most recent call last)",
      "\u001b[1;32m<ipython-input-23-4656bc83d7f9>\u001b[0m in \u001b[0;36m<module>\u001b[1;34m\u001b[0m\n\u001b[1;32m----> 1\u001b[1;33m \u001b[1;32mfrom\u001b[0m \u001b[0mqiskit_textbook\u001b[0m\u001b[1;33m.\u001b[0m\u001b[0mwidgets\u001b[0m \u001b[1;32mimport\u001b[0m \u001b[0mplot_bloch_vector_spherical\u001b[0m\u001b[1;33m\u001b[0m\u001b[1;33m\u001b[0m\u001b[0m\n\u001b[0m\u001b[0;32m      2\u001b[0m \u001b[0mcoords\u001b[0m \u001b[1;33m=\u001b[0m \u001b[1;33m[\u001b[0m\u001b[0mpi\u001b[0m\u001b[1;33m/\u001b[0m\u001b[1;36m2\u001b[0m\u001b[1;33m,\u001b[0m\u001b[1;36m0\u001b[0m\u001b[1;33m,\u001b[0m\u001b[1;36m1\u001b[0m\u001b[1;33m]\u001b[0m \u001b[1;31m# [Theta, Phi, Radius]\u001b[0m\u001b[1;33m\u001b[0m\u001b[1;33m\u001b[0m\u001b[0m\n\u001b[0;32m      3\u001b[0m \u001b[0mplot_bloch_vector_spherical\u001b[0m\u001b[1;33m(\u001b[0m\u001b[0mcoords\u001b[0m\u001b[1;33m)\u001b[0m \u001b[1;31m# Bloch Vector with spherical coordinates\u001b[0m\u001b[1;33m\u001b[0m\u001b[1;33m\u001b[0m\u001b[0m\n",
      "\u001b[1;31mModuleNotFoundError\u001b[0m: No module named 'qiskit_textbook'"
     ]
    }
   ],
   "source": [
    "from qiskit_textbook.widgets import plot_bloch_vector_spherical\n",
    "coords = [pi/2,0,1] # [Theta, Phi, Radius]\n",
    "plot_bloch_vector_spherical(coords) # Bloch Vector with spherical coordinates"
   ]
  },
  {
   "cell_type": "code",
   "execution_count": 25,
   "metadata": {},
   "outputs": [
    {
     "data": {
      "text/html": [
       "<pre style=\"word-wrap: normal;white-space: pre;background: #fff0;line-height: 1.1;font-family: &quot;Courier New&quot;,Courier,monospace\">     ┌───┐\n",
       "q_0: ┤ X ├\n",
       "     └───┘</pre>"
      ],
      "text/plain": [
       "     ┌───┐\n",
       "q_0: ┤ X ├\n",
       "     └───┘"
      ]
     },
     "execution_count": 25,
     "metadata": {},
     "output_type": "execute_result"
    }
   ],
   "source": [
    "qc = QuantumCircuit(1)\n",
    "qc.x(0)\n",
    "qc.draw()"
   ]
  },
  {
   "cell_type": "code",
   "execution_count": 27,
   "metadata": {},
   "outputs": [
    {
     "data": {
      "text/html": [
       "<pre style=\"word-wrap: normal;white-space: pre;background: #fff0;line-height: 1.1;font-family: &quot;Courier New&quot;,Courier,monospace\">     ┌──────────────────────────────┐┌───┐┌─┐\n",
       "q_0: ┤ initialize(0.70711,-0.70711) ├┤ H ├┤M├\n",
       "     └──────────────────────────────┘└───┘└╥┘\n",
       "c: 1/══════════════════════════════════════╩═\n",
       "                                           0 </pre>"
      ],
      "text/plain": [
       "     ┌──────────────────────────────┐┌───┐┌─┐\n",
       "q_0: ┤ initialize(0.70711,-0.70711) ├┤ H ├┤M├\n",
       "     └──────────────────────────────┘└───┘└╥┘\n",
       "c: 1/══════════════════════════════════════╩═\n",
       "                                           0 "
      ]
     },
     "execution_count": 27,
     "metadata": {},
     "output_type": "execute_result"
    }
   ],
   "source": [
    "# Create the X-measurement function:\n",
    "def x_measurement(qc, qubit, cbit):\n",
    "    \"\"\"Measure 'qubit' in the X-basis, and store the result in 'cbit'\"\"\"\n",
    "    qc.h(qubit)\n",
    "    qc.measure(qubit, cbit)\n",
    "    return qc\n",
    "\n",
    "initial_state = [1/sqrt(2), -1/sqrt(2)]\n",
    "# Initialise our qubit and measure it\n",
    "qc = QuantumCircuit(1,1)\n",
    "qc.initialize(initial_state, 0)\n",
    "x_measurement(qc, 0, 0)  # measure qubit 0 to classical bit 0\n",
    "qc.draw()"
   ]
  },
  {
   "cell_type": "code",
   "execution_count": 28,
   "metadata": {},
   "outputs": [
    {
     "data": {
      "image/png": "[encoded data removed]",
      "text/plain": [
       "<Figure size 504x360 with 1 Axes>"
      ]
     },
     "execution_count": 28,
     "metadata": {},
     "output_type": "execute_result"
    }
   ],
   "source": [
    "qasmsim = Aer.get_backend('qasm_simulator')  # Tell Qiskit how to simulate our circuit\n",
    "qobj = assemble(qc)  # Assemble circuit into a Qobj that can be run\n",
    "counts = qasmsim.run(qobj).result().get_counts()  # Do the simulation, returning the state vector\n",
    "plot_histogram(counts)  # Display the output state vector"
   ]
  },
  {
   "cell_type": "code",
   "execution_count": null,
   "metadata": {},
   "outputs": [],
   "source": []
  }
 ],
 "metadata": {
  "kernelspec": {
   "display_name": "Python 3",
   "language": "python",
   "name": "python3"
  },
  "language_info": {
   "codemirror_mode": {
    "name": "ipython",
    "version": 3
   },
   "file_extension": ".py",
   "mimetype": "text/x-python",
   "name": "python",
   "nbconvert_exporter": "python",
   "pygments_lexer": "ipython3",
   "version": "3.8.3"
  }
 },
 "nbformat": 4,
 "nbformat_minor": 4
}
